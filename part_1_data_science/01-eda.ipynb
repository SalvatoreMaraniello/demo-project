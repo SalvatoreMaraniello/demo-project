{
 "cells": [
  {
   "cell_type": "markdown",
   "metadata": {
    "vscode": {
     "languageId": "plaintext"
    }
   },
   "source": [
    "## Template\n"
   ]
  },
  {
   "cell_type": "code",
   "execution_count": 1,
   "metadata": {},
   "outputs": [],
   "source": [
    "%load_ext autoreload\n",
    "%autoreload 2"
   ]
  },
  {
   "cell_type": "code",
   "execution_count": null,
   "metadata": {},
   "outputs": [],
   "source": [
    "import sys\n",
    "import os\n",
    "from pathlib import Path\n",
    "import pandas as pd\n",
    "import numpy as np\n",
    "\n",
    "import xgboost as xg\n",
    "\n",
    "from sklearn.compose import ColumnTransformer\n",
    "from sklearn.ensemble import GradientBoostingRegressor\n",
    "from sklearn.linear_model import LinearRegression, ElasticNet\n",
    "from sklearn.metrics import mean_absolute_error, mean_squared_error, root_mean_squared_error, r2_score, median_absolute_error, make_scorer\n",
    "from sklearn.model_selection import train_test_split, GridSearchCV, StratifiedKFold, RandomizedSearchCV\n",
    "from sklearn.neural_network import MLPRegressor\n",
    "from sklearn.pipeline import Pipeline\n",
    "from sklearn.preprocessing import StandardScaler, RobustScaler, MinMaxScaler, PowerTransformer, FunctionTransformer\n",
    "\n",
    "# Local\n",
    "PATH_TO_SRC = Path('../src').resolve()\n",
    "sys.path.append(PATH_TO_SRC.as_posix())\n",
    "import lib_model  # nopep8\n",
    "\n",
    "PATH_TO_DATA = Path('../data').resolve()\n",
    "PATH_TO_RES = Path('./results').resolve()\n",
    "PATH_TO_FIGS = Path('./figures').resolve()\n",
    "os.makedirs(PATH_TO_RES, exist_ok=True)\n",
    "os.makedirs(PATH_TO_FIGS, exist_ok=True)\n",
    "\n",
    "RANDOM_STATE = 78239"
   ]
  },
  {
   "cell_type": "code",
   "execution_count": null,
   "metadata": {},
   "outputs": [],
   "source": [
    "# Load data\n",
    "ds = pd.read_csv(PATH_TO_DATA / 'sample_metadata.csv', nrows=50)\n",
    "db = pd.read_csv(PATH_TO_DATA / 'bacteria_table.csv', nrows=50)\n",
    "\n",
    "# Preprocess\n",
    "ds['yield_location'] = ds['yield_location'].str.replace(';', ',').str.replace('_', ',')\n",
    "\n",
    "\n",
    "def extract_yield(y: str):\n",
    "    return float(y.split(',')[0])\n",
    "\n",
    "\n",
    "ds['yield'] = ds['yield_location'].apply(extract_yield)"
   ]
  }
 ],
 "metadata": {
  "kernelspec": {
   "display_name": "venv",
   "language": "python",
   "name": "python3"
  },
  "language_info": {
   "codemirror_mode": {
    "name": "ipython",
    "version": 3
   },
   "file_extension": ".py",
   "mimetype": "text/x-python",
   "name": "python",
   "nbconvert_exporter": "python",
   "pygments_lexer": "ipython3",
   "version": "3.11.4"
  }
 },
 "nbformat": 4,
 "nbformat_minor": 2
}
