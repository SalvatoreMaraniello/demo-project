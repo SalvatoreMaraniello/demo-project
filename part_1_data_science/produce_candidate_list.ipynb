{
 "cells": [
  {
   "cell_type": "markdown",
   "metadata": {},
   "source": [
    "# Section 1: Produce a new bacterial candidate list\n",
    "\n",
    "The purpose of this task is to find beneficial bacteria to use in a probiotic supplement. In this task, we would like to see your ability to work with data and to produce a candidate list even if you don't pick the best bacterial candidates/best ML model.\n",
    "\n",
    "## The dataset\n",
    "\n",
    "We have two datasets in the data folder:\n",
    "\n",
    "### 1. Bacteria Table (`bacteria_table.csv`)\n",
    "- Contains bacterial counts from various samples\n",
    "- Each row represents a feature (bacterial species) in a sample\n",
    "- Each column represents a sample\n",
    "\n",
    "\n",
    "### 2. Sample Metadata (`sample_metadata.csv`)\n",
    "- Contains metadata about the samples\n",
    "- Each row represents a sample\n",
    "- The columns are:\n",
    "  - Sample_id (unique identifier for each sample)\n",
    "  - Sample_type (e.g., root, leaf, etc.)\n",
    "  - Customer_id (unique identifier for each customer)\n",
    "  - System_type (Deep water, Ebb and flow, etc.)\n",
    "  - Location_lat (latitude of the location)\n",
    "  - Location_lng (longitude of the location)\n",
    "  - Customer_type (Greenhouse, Vertical Farm, etc.)\n",
    "  - Yield_location (Location id mixed with the yield)"
   ]
  },
  {
   "cell_type": "markdown",
   "metadata": {},
   "source": [
    "### Suggested timline \n",
    "- 5 mins: Loading the data & Data Understanding\n",
    "- 20 mins: Data Preparation/Pre-processing\n",
    "- 20 mins: Generate a candidate list from ML model\n",
    "- 5 mins: Report findings and candidate list\n"
   ]
  }
 ],
 "metadata": {
  "kernelspec": {
   "display_name": "Python 3",
   "language": "python",
   "name": "python3"
  },
  "language_info": {
   "codemirror_mode": {
    "name": "ipython",
    "version": 3
   },
   "file_extension": ".py",
   "mimetype": "text/x-python",
   "name": "python",
   "nbconvert_exporter": "python",
   "pygments_lexer": "ipython3",
   "version": "3.12.6"
  }
 },
 "nbformat": 4,
 "nbformat_minor": 2
}
